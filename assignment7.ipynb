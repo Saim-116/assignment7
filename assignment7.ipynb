{
 "cells": [
  {
   "cell_type": "code",
   "execution_count": null,
   "id": "9ac55d07-8ce4-4074-95d4-3f63aca13ad8",
   "metadata": {},
   "outputs": [],
   "source": [
    "# Make a class called Employee. The __init__() method for Employee should store its different attributes: name, number, address, salary, post,\n",
    "# year of joining, education, and his year of experience"
   ]
  },
  {
   "cell_type": "code",
   "execution_count": 4,
   "id": "1a20944e-68e9-427e-add4-e4cc52e1d610",
   "metadata": {},
   "outputs": [],
   "source": [
    "class Employee:\n",
    "    def __init__(self, name, number, address, salary, post, year_of_joining, education, year_of_experience):\n",
    "        self.name = name\n",
    "        self.number = number\n",
    "        self.address = address\n",
    "        self.salary = salary\n",
    "        self.post = post\n",
    "        self.year_of_joining = year_of_joining\n",
    "        self.education = education\n",
    "        self.year_of_experience = year_of_experience"
   ]
  },
  {
   "cell_type": "code",
   "execution_count": null,
   "id": "fbdb551a-f456-41dc-bf36-fd70e939fb1b",
   "metadata": {},
   "outputs": [],
   "source": [
    "# Make a method called describe_employee() that prints the detail Information about employee, a method update_ year_of_experience(),\n",
    "# and a method called increase_salary() that do increamnet in it's salary."
   ]
  },
  {
   "cell_type": "code",
   "execution_count": 6,
   "id": "c3edd396-a338-4432-9243-b00657bd5ee7",
   "metadata": {},
   "outputs": [],
   "source": [
    "class Employee:\n",
    "    def __init__(self, name, number, address, salary, post, year_of_joining, education, year_of_experience):\n",
    "        self.name = name\n",
    "        self.number = number\n",
    "        self.address = address\n",
    "        self.salary = salary\n",
    "        self.post = post\n",
    "        self.year_of_joining = year_of_joining\n",
    "        self.education = education\n",
    "        self.year_of_experience = year_of_experience\n",
    "\n",
    "    def describe_employee(self):\n",
    "        print(\"Employee Information:\")\n",
    "        print(\"Name:\", self.name)\n",
    "        print(\"Number:\", self.number)\n",
    "        print(\"Address:\", self.address)\n",
    "        print(\"Salary:\", self.salary)\n",
    "        print(\"Post:\", self.post)\n",
    "        print(\"Year of Joining:\", self.year_of_joining)\n",
    "        print(\"Education:\", self.education)\n",
    "        print(\"Year of Experience:\", self.year_of_experience)\n",
    "\n",
    "    def update_year_of_experience(self, new_year_of_experience):\n",
    "        self.year_of_experience = new_year_of_experience\n",
    "\n",
    "    def increase_salary(self, percentage):\n",
    "        self.salary += self.salary * percentage / 100"
   ]
  },
  {
   "cell_type": "code",
   "execution_count": null,
   "id": "5cd0ae68-0acc-4880-b6bd-adaca508b863",
   "metadata": {},
   "outputs": [],
   "source": [
    "# Make an instance called employee101 from your class. Print the four attri-\n",
    "# butes individually, and then call all it's methods for describing employee, ssalary increamnet and increase year of experience."
   ]
  },
  {
   "cell_type": "code",
   "execution_count": 16,
   "id": "0ee459ec-2c13-43f4-8832-dd2402eea080",
   "metadata": {},
   "outputs": [
    {
     "ename": "NameError",
     "evalue": "name 'employees' is not defined",
     "output_type": "error",
     "traceback": [
      "\u001b[1;31m---------------------------------------------------------------------------\u001b[0m",
      "\u001b[1;31mNameError\u001b[0m                                 Traceback (most recent call last)",
      "Cell \u001b[1;32mIn[16], line 13\u001b[0m\n\u001b[0;32m      9\u001b[0m Employee(\u001b[38;5;124m\"\u001b[39m\u001b[38;5;124mIvy\u001b[39m\u001b[38;5;124m\"\u001b[39m, \u001b[38;5;124m\"\u001b[39m\u001b[38;5;124m110\u001b[39m\u001b[38;5;124m\"\u001b[39m, \u001b[38;5;124m\"\u001b[39m\u001b[38;5;124m123 Main Street\u001b[39m\u001b[38;5;124m\"\u001b[39m, \u001b[38;5;241m58000\u001b[39m, \u001b[38;5;124m\"\u001b[39m\u001b[38;5;124mTechnical Writer\u001b[39m\u001b[38;5;124m\"\u001b[39m, \u001b[38;5;241m2021\u001b[39m, \u001b[38;5;124m\"\u001b[39m\u001b[38;5;124mBachelor\u001b[39m\u001b[38;5;124m'\u001b[39m\u001b[38;5;124ms Degree\u001b[39m\u001b[38;5;124m\"\u001b[39m, \u001b[38;5;241m2\u001b[39m),\n\u001b[0;32m     10\u001b[0m Employee(\u001b[38;5;124m\"\u001b[39m\u001b[38;5;124mJack\u001b[39m\u001b[38;5;124m\"\u001b[39m, \u001b[38;5;124m\"\u001b[39m\u001b[38;5;124m111\u001b[39m\u001b[38;5;124m\"\u001b[39m, \u001b[38;5;124m\"\u001b[39m\u001b[38;5;124m456 Main Street\u001b[39m\u001b[38;5;124m\"\u001b[39m, \u001b[38;5;241m68000\u001b[39m, \u001b[38;5;124m\"\u001b[39m\u001b[38;5;124mSystem Administrator\u001b[39m\u001b[38;5;124m\"\u001b[39m, \u001b[38;5;241m2018\u001b[39m, \u001b[38;5;124m\"\u001b[39m\u001b[38;5;124mAssociate Degree\u001b[39m\u001b[38;5;124m\"\u001b[39m, \u001b[38;5;241m5\u001b[39m)\n\u001b[1;32m---> 13\u001b[0m \u001b[38;5;28;01mfor\u001b[39;00m employee \u001b[38;5;129;01min\u001b[39;00m employees:\n\u001b[0;32m     14\u001b[0m     employee\u001b[38;5;241m.\u001b[39mdescribe_employee()\n\u001b[0;32m     16\u001b[0m \u001b[38;5;66;03m# Example of updating an employee's information\u001b[39;00m\n",
      "\u001b[1;31mNameError\u001b[0m: name 'employees' is not defined"
     ]
    }
   ],
   "source": []
  },
  {
   "cell_type": "code",
   "execution_count": 8,
   "id": "675ac9a1-af89-472c-b8d5-79cc24df0f50",
   "metadata": {},
   "outputs": [
    {
     "name": "stdout",
     "output_type": "stream",
     "text": [
      "Name: John Doe\n",
      "Salary: 50000\n",
      "Year of Joining: 2020\n",
      "Year of Experience: 3\n",
      "Employee Information:\n",
      "Name: John Doe\n",
      "Number: 101\n",
      "Address: 123 Main Street\n",
      "Salary: 50000\n",
      "Post: Software Engineer\n",
      "Year of Joining: 2020\n",
      "Education: Bachelor's Degree\n",
      "Year of Experience: 3\n",
      "Updated Salary: 55000.0\n",
      "Updated Year of Experience: 4\n"
     ]
    }
   ],
   "source": [
    "employee101 = Employee(\"John Doe\", \"101\", \"123 Main Street\", 50000, \"Software Engineer\", 2020, \"Bachelor's Degree\", 3)\n",
    "\n",
    "print(\"Name:\", employee101.name)\n",
    "print(\"Salary:\", employee101.salary)\n",
    "print(\"Year of Joining:\", employee101.year_of_joining)\n",
    "print(\"Year of Experience:\", employee101.year_of_experience)\n",
    "\n",
    "employee101.describe_employee()\n",
    "employee101.increase_salary(10)\n",
    "print(\"Updated Salary:\", employee101.salary)\n",
    "employee101.update_year_of_experience(4)\n",
    "print(\"Updated Year of Experience:\", employee101.year_of_experience)"
   ]
  },
  {
   "cell_type": "code",
   "execution_count": null,
   "id": "51214404-8d1e-447d-9e85-c683ac6d7d8e",
   "metadata": {},
   "outputs": [],
   "source": [
    "# Create 10 different instances from the class, and call describe_employee() for each\n",
    "# instance. Then do some updations with it's methods"
   ]
  },
  {
   "cell_type": "code",
   "execution_count": 18,
   "id": "cfa50d18-d4da-4047-a422-24fef67ee911",
   "metadata": {},
   "outputs": [
    {
     "name": "stdout",
     "output_type": "stream",
     "text": [
      "Employee Information:\n",
      "Name: Alice\n",
      "Number: 102\n",
      "Address: 456 Main Street\n",
      "Salary: 60000\n",
      "Post: Data Analyst\n",
      "Year of Joining: 2018\n",
      "Education: Master's Degree\n",
      "Year of Experience: 5\n",
      "Employee Information:\n",
      "Name: Bob\n",
      "Number: 103\n",
      "Address: 789 Main Street\n",
      "Salary: 70000\n",
      "Post: Software Developer\n",
      "Year of Joining: 2015\n",
      "Education: Bachelor's Degree\n",
      "Year of Experience: 8\n",
      "Employee Information:\n",
      "Name: Charlie\n",
      "Number: 104\n",
      "Address: 123 Main Street\n",
      "Salary: 55000\n",
      "Post: Project Manager\n",
      "Year of Joining: 2022\n",
      "Education: MBA\n",
      "Year of Experience: 2\n",
      "Employee Information:\n",
      "Name: David\n",
      "Number: 105\n",
      "Address: 456 Main Street\n",
      "Salary: 65000\n",
      "Post: UI/UX Designer\n",
      "Year of Joining: 2020\n",
      "Education: Bachelor's Degree\n",
      "Year of Experience: 3\n",
      "Employee Information:\n",
      "Name: Eve\n",
      "Number: 106\n",
      "Address: 789 Main Street\n",
      "Salary: 80000\n",
      "Post: Product Manager\n",
      "Year of Joining: 2017\n",
      "Education: MBA\n",
      "Year of Experience: 6\n",
      "Employee Information:\n",
      "Name: Frank\n",
      "Number: 107\n",
      "Address: 123 Main Street\n",
      "Salary: 50000\n",
      "Post: QA Engineer\n",
      "Year of Joining: 2023\n",
      "Education: Bachelor's Degree\n",
      "Year of Experience: 1\n",
      "Employee Information:\n",
      "Name: Grace\n",
      "Number: 108\n",
      "Address: 456 Main Street\n",
      "Salary: 62000\n",
      "Post: Business Analyst\n",
      "Year of Joining: 2019\n",
      "Education: Master's Degree\n",
      "Year of Experience: 4\n",
      "Employee Information:\n",
      "Name: Henry\n",
      "Number: 109\n",
      "Address: 789 Main Street\n",
      "Salary: 75000\n",
      "Post: DevOps Engineer\n",
      "Year of Joining: 2016\n",
      "Education: Bachelor's Degree\n",
      "Year of Experience: 7\n",
      "Employee Information:\n",
      "Name: Ivy\n",
      "Number: 110\n",
      "Address: 123 Main Street\n",
      "Salary: 58000\n",
      "Post: Technical Writer\n",
      "Year of Joining: 2021\n",
      "Education: Bachelor's Degree\n",
      "Year of Experience: 2\n",
      "Employee Information:\n",
      "Name: Jack\n",
      "Number: 111\n",
      "Address: 456 Main Street\n",
      "Salary: 68000\n",
      "Post: System Administrator\n",
      "Year of Joining: 2018\n",
      "Education: Associate Degree\n",
      "Year of Experience: 5\n",
      "Employee Information:\n",
      "Name: Charlie\n",
      "Number: 104\n",
      "Address: 123 Main Street\n",
      "Salary: 57750.0\n",
      "Post: Project Manager\n",
      "Year of Joining: 2022\n",
      "Education: MBA\n",
      "Year of Experience: 3\n"
     ]
    }
   ],
   "source": [
    "employees = [\n",
    "    Employee(\"Alice\", \"102\", \"456 Main Street\", 60000, \"Data Analyst\", 2018, \"Master's Degree\", 5),\n",
    "    Employee(\"Bob\", \"103\", \"789 Main Street\", 70000, \"Software Developer\", 2015, \"Bachelor's Degree\", 8),\n",
    "    Employee(\"Charlie\", \"104\", \"123 Main Street\", 55000, \"Project Manager\", 2022, \"MBA\", 2),\n",
    "    Employee(\"David\", \"105\", \"456 Main Street\", 65000, \"UI/UX Designer\", 2020, \"Bachelor's Degree\", 3),\n",
    "    Employee(\"Eve\", \"106\", \"789 Main Street\", 80000, \"Product Manager\", 2017, \"MBA\", 6),\n",
    "    Employee(\"Frank\", \"107\", \"123 Main Street\", 50000, \"QA Engineer\", 2023, \"Bachelor's Degree\", 1),\n",
    "    Employee(\"Grace\", \"108\", \"456 Main Street\", 62000, \"Business Analyst\", 2019, \"Master's Degree\", 4),\n",
    "    Employee(\"Henry\", \"109\", \"789 Main Street\", 75000, \"DevOps Engineer\", 2016, \"Bachelor's Degree\", 7),\n",
    "    Employee(\"Ivy\", \"110\", \"123 Main Street\", 58000, \"Technical Writer\", 2021, \"Bachelor's Degree\", 2),\n",
    "    Employee(\"Jack\", \"111\", \"456 Main Street\", 68000, \"System Administrator\", 2018, \"Associate Degree\", 5)\n",
    "]\n",
    "\n",
    "for employee in employees:\n",
    "    employee.describe_employee()\n",
    "\n",
    "# Example of updating an employee's information\n",
    "employees[2].increase_salary(5)\n",
    "employees[2].update_year_of_experience(3)\n",
    "employees[2].describe_employee()"
   ]
  },
  {
   "cell_type": "code",
   "execution_count": null,
   "id": "d4d424ea-9f44-4237-993c-4c291b883e9f",
   "metadata": {},
   "outputs": [],
   "source": [
    "#Finally complete the same task without using the Classes or OOP."
   ]
  },
  {
   "cell_type": "code",
   "execution_count": 24,
   "id": "7642d1b2-0fd4-4138-8d0b-41e98e2439a3",
   "metadata": {},
   "outputs": [
    {
     "name": "stdout",
     "output_type": "stream",
     "text": [
      "Employee Information:\n",
      "Name: Alice\n",
      "Number: 102\n",
      "Address: 456 Main Street\n",
      "Salary: 60000\n",
      "Post: Data Analyst\n",
      "Year of Joining: 2018\n",
      "Education: Master's Degree\n",
      "Year of Experience: 5\n"
     ]
    },
    {
     "ename": "IndexError",
     "evalue": "list index out of range",
     "output_type": "error",
     "traceback": [
      "\u001b[1;31m---------------------------------------------------------------------------\u001b[0m",
      "\u001b[1;31mIndexError\u001b[0m                                Traceback (most recent call last)",
      "Cell \u001b[1;32mIn[24], line 28\u001b[0m\n\u001b[0;32m     25\u001b[0m     describe_employee(employee)\n\u001b[0;32m     27\u001b[0m \u001b[38;5;66;03m# Example of updating an employee's information\u001b[39;00m\n\u001b[1;32m---> 28\u001b[0m employees[\u001b[38;5;241m2\u001b[39m][\u001b[38;5;124m\"\u001b[39m\u001b[38;5;124msalary\u001b[39m\u001b[38;5;124m\"\u001b[39m] \u001b[38;5;241m+\u001b[39m\u001b[38;5;241m=\u001b[39m employees[\u001b[38;5;241m1\u001b[39m][\u001b[38;5;124m\"\u001b[39m\u001b[38;5;124msalary\u001b[39m\u001b[38;5;124m\"\u001b[39m] \u001b[38;5;241m*\u001b[39m \u001b[38;5;241m5\u001b[39m \u001b[38;5;241m/\u001b[39m \u001b[38;5;241m100\u001b[39m\n\u001b[0;32m     29\u001b[0m employees[\u001b[38;5;241m2\u001b[39m][\u001b[38;5;124m\"\u001b[39m\u001b[38;5;124myear_of_experience\u001b[39m\u001b[38;5;124m\"\u001b[39m] \u001b[38;5;241m=\u001b[39m \u001b[38;5;241m3\u001b[39m\n\u001b[0;32m     30\u001b[0m describe_employee(employees[\u001b[38;5;241m2\u001b[39m])\n",
      "\u001b[1;31mIndexError\u001b[0m: list index out of range"
     ]
    }
   ],
   "source": [
    "employees = [\n",
    "    {\"name\": \"Alice\", \"number\": \"102\", \"address\": \"456 Main Street\", \"salary\": 60000, \"post\": \"Data Analyst\", \"year_of_joining\": 2018, \"education\": \"Master's Degree\", \"year_of_experience\": 5},\n",
    "    # ... other employees ...\n",
    "]\n",
    "\n",
    "def describe_employee(employee):\n",
    "    print(\"Employee Information:\")\n",
    "    print(\"Name:\", employee[\"name\"])\n",
    "    print(\"Number:\", employee[\"number\"])\n",
    "    print(\"Address:\", employee[\"address\"])\n",
    "    print(\"Salary:\", employee[\"salary\"])\n",
    "    print(\"Post:\", employee[\"post\"])\n",
    "    print(\"Year of Joining:\", employee[\"year_of_joining\"])\n",
    "    print(\"Education:\", employee[\"education\"])\n",
    "    print(\"Year of Experience:\", employee[\"year_of_experience\"])\n",
    "\n",
    "def update_year_of_experience(employee, new_year_of_experience):\n",
    "    employee[\"year_of_experience\"] = new_year_of_experience\n",
    "\n",
    "def increase_salary(employee, percentage):\n",
    "    employee[\"salary\"] += employee[\"salary\"] * percentage / 100\n",
    "\n",
    "# Print employee details\n",
    "for employee in employees:\n",
    "    describe_employee(employee)\n",
    "\n",
    "# Example of updating an employee's information\n",
    "employees[2][\"salary\"] += employees[1][\"salary\"] * 5 / 100\n",
    "employees[2][\"year_of_experience\"] = 3\n",
    "describe_employee(employees[2])"
   ]
  },
  {
   "cell_type": "code",
   "execution_count": null,
   "id": "360fef8c-1307-4868-98f5-7c7b6bda37a1",
   "metadata": {},
   "outputs": [],
   "source": []
  }
 ],
 "metadata": {
  "kernelspec": {
   "display_name": "Python 3 (ipykernel)",
   "language": "python",
   "name": "python3"
  },
  "language_info": {
   "codemirror_mode": {
    "name": "ipython",
    "version": 3
   },
   "file_extension": ".py",
   "mimetype": "text/x-python",
   "name": "python",
   "nbconvert_exporter": "python",
   "pygments_lexer": "ipython3",
   "version": "3.12.4"
  }
 },
 "nbformat": 4,
 "nbformat_minor": 5
}
